{
 "cells": [
  {
   "cell_type": "code",
   "execution_count": 1,
   "metadata": {},
   "outputs": [
    {
     "name": "stdout",
     "output_type": "stream",
     "text": [
      "hello\n"
     ]
    }
   ],
   "source": [
    "print(\"hello\")"
   ]
  },
  {
   "cell_type": "code",
   "execution_count": 1,
   "metadata": {},
   "outputs": [
    {
     "name": "stdout",
     "output_type": "stream",
     "text": [
      "Requirement already satisfied: flake8 in /opt/miniconda3/envs/py38/lib/python3.8/site-packages (6.0.0)\n",
      "Requirement already satisfied: pytest in /opt/miniconda3/envs/py38/lib/python3.8/site-packages (7.3.1)\n",
      "Requirement already satisfied: pytest-cov in /opt/miniconda3/envs/py38/lib/python3.8/site-packages (4.1.0)\n",
      "Requirement already satisfied: pycodestyle<2.11.0,>=2.10.0 in /opt/miniconda3/envs/py38/lib/python3.8/site-packages (from flake8) (2.10.0)\n",
      "Requirement already satisfied: pyflakes<3.1.0,>=3.0.0 in /opt/miniconda3/envs/py38/lib/python3.8/site-packages (from flake8) (3.0.1)\n",
      "Requirement already satisfied: mccabe<0.8.0,>=0.7.0 in /opt/miniconda3/envs/py38/lib/python3.8/site-packages (from flake8) (0.7.0)\n",
      "Requirement already satisfied: packaging in /opt/miniconda3/envs/py38/lib/python3.8/site-packages (from pytest) (23.1)\n",
      "Requirement already satisfied: exceptiongroup>=1.0.0rc8 in /opt/miniconda3/envs/py38/lib/python3.8/site-packages (from pytest) (1.1.1)\n",
      "Requirement already satisfied: pluggy<2.0,>=0.12 in /opt/miniconda3/envs/py38/lib/python3.8/site-packages (from pytest) (0.13.1)\n",
      "Requirement already satisfied: tomli>=1.0.0 in /opt/miniconda3/envs/py38/lib/python3.8/site-packages (from pytest) (2.0.1)\n",
      "Requirement already satisfied: iniconfig in /opt/miniconda3/envs/py38/lib/python3.8/site-packages (from pytest) (2.0.0)\n",
      "Requirement already satisfied: coverage[toml]>=5.2.1 in /opt/miniconda3/envs/py38/lib/python3.8/site-packages (from pytest-cov) (7.2.7)\n",
      "\u001b[33mWARNING: Running pip as the 'root' user can result in broken permissions and conflicting behaviour with the system package manager. It is recommended to use a virtual environment instead: https://pip.pypa.io/warnings/venv\u001b[0m\u001b[33m\n",
      "\u001b[0m"
     ]
    }
   ],
   "source": [
    "!pip install flake8 pytest pytest-cov"
   ]
  },
  {
   "cell_type": "code",
   "execution_count": 2,
   "metadata": {},
   "outputs": [
    {
     "ename": "NameError",
     "evalue": "name 'flake8' is not defined",
     "output_type": "error",
     "traceback": [
      "\u001b[0;31m---------------------------------------------------------------------------\u001b[0m",
      "\u001b[0;31mNameError\u001b[0m                                 Traceback (most recent call last)",
      "Cell \u001b[0;32mIn[2], line 1\u001b[0m\n\u001b[0;32m----> 1\u001b[0m flake8 \u001b[39m-\u001b[39m\u001b[39m-\u001b[39mstatistics\n",
      "\u001b[0;31mNameError\u001b[0m: name 'flake8' is not defined"
     ]
    }
   ],
   "source": [
    "flake8 --statistics"
   ]
  },
  {
   "cell_type": "code",
   "execution_count": null,
   "metadata": {},
   "outputs": [],
   "source": []
  }
 ],
 "metadata": {
  "kernelspec": {
   "display_name": "Python 3.8.15 ('py38')",
   "language": "python",
   "name": "python3"
  },
  "language_info": {
   "codemirror_mode": {
    "name": "ipython",
    "version": 3
   },
   "file_extension": ".py",
   "mimetype": "text/x-python",
   "name": "python",
   "nbconvert_exporter": "python",
   "pygments_lexer": "ipython3",
   "version": "3.8.15"
  },
  "orig_nbformat": 4,
  "vscode": {
   "interpreter": {
    "hash": "8c712361aca0e0dc94dba1f1de89c96fb82cf5e5a8e861878c7cae66c0bd5fe6"
   }
  }
 },
 "nbformat": 4,
 "nbformat_minor": 2
}
